{
 "cells": [
  {
   "cell_type": "code",
   "execution_count": 28,
   "id": "febbab3d-46eb-4281-8cad-56c903f4aedb",
   "metadata": {},
   "outputs": [],
   "source": [
    "import pandas as pd\n",
    "import matplotlib.pyplot as plt\n"
   ]
  },
  {
   "cell_type": "code",
   "execution_count": 74,
   "id": "d26451bf-6c88-4849-af95-2196a2facd22",
   "metadata": {},
   "outputs": [],
   "source": [
    "def box_plot (df, column_name):\n",
    "    plt.figure(figsize=(8, 6))  # Setting the figure size\n",
    "    df[f'{column_name}'].plot(kind='box', vert=False)\n",
    "    plt.title(f'Box Plot of {column_name}')\n",
    "    plt.ylabel('Wind Speed (km/h)')\n",
    "    plt.grid(True)  # Optional: adds a grid for easier reading\n",
    "    plt.show()"
   ]
  },
  {
   "cell_type": "code",
   "execution_count": 75,
   "id": "2e10be65-20fa-470f-8d5f-b6320af7bcd1",
   "metadata": {},
   "outputs": [],
   "source": [
    "def density_plot(column_name):\n",
    "    plt.subplot(1, 2, 2)  # 1 row, 2 columns, 2nd subplot\n",
    "    df[f'{column_name}'].plot(kind='density')\n",
    "    plt.title(f'Density Plot - {column_name}')\n",
    "    plt.xlim(-100, 100) \n",
    "    plt.tight_layout()\n",
    "    plt.show()"
   ]
  },
  {
   "cell_type": "code",
   "execution_count": 4,
   "id": "103de198-fab5-4187-a10d-2d757463bb25",
   "metadata": {},
   "outputs": [],
   "source": [
    "df = pd.read_csv(r\"E:\\Github\\AirportTrendAnalysis\\data\\airport_dataset_with_llm_weather.csv\")"
   ]
  },
  {
   "cell_type": "code",
   "execution_count": 7,
   "id": "a850471e-8c6f-4f04-9f91-fa9c4ed14519",
   "metadata": {},
   "outputs": [],
   "source": [
    "df = df[[\"airport_name\", \"city\", \"country\", \"iso_country\", \"iata\", \"altitude\", \"latitude\", \"longitude\", \"original_city\", \"avg_temperature\", \"avg_wind_speed\", \"avg_humidity\",\t\"avg_visibility\"]]"
   ]
  },
  {
   "cell_type": "code",
   "execution_count": 8,
   "id": "7f6220f7-75f1-4970-9720-ec67a7a49148",
   "metadata": {},
   "outputs": [
    {
     "data": {
      "text/html": [
       "<div>\n",
       "<style scoped>\n",
       "    .dataframe tbody tr th:only-of-type {\n",
       "        vertical-align: middle;\n",
       "    }\n",
       "\n",
       "    .dataframe tbody tr th {\n",
       "        vertical-align: top;\n",
       "    }\n",
       "\n",
       "    .dataframe thead th {\n",
       "        text-align: right;\n",
       "    }\n",
       "</style>\n",
       "<table border=\"1\" class=\"dataframe\">\n",
       "  <thead>\n",
       "    <tr style=\"text-align: right;\">\n",
       "      <th></th>\n",
       "      <th>airport_name</th>\n",
       "      <th>city</th>\n",
       "      <th>country</th>\n",
       "      <th>iso_country</th>\n",
       "      <th>iata</th>\n",
       "      <th>altitude</th>\n",
       "      <th>latitude</th>\n",
       "      <th>longitude</th>\n",
       "      <th>original_city</th>\n",
       "      <th>avg_temperature</th>\n",
       "      <th>avg_wind_speed</th>\n",
       "      <th>avg_humidity</th>\n",
       "      <th>avg_visibility</th>\n",
       "    </tr>\n",
       "  </thead>\n",
       "  <tbody>\n",
       "    <tr>\n",
       "      <th>0</th>\n",
       "      <td>goroka</td>\n",
       "      <td>goroka</td>\n",
       "      <td>Papua New Guinea</td>\n",
       "      <td>pg</td>\n",
       "      <td>gka</td>\n",
       "      <td>1609.9536</td>\n",
       "      <td>-6.081690</td>\n",
       "      <td>145.391998</td>\n",
       "      <td>Goroka</td>\n",
       "      <td>20.0</td>\n",
       "      <td>5.0</td>\n",
       "      <td>80.0</td>\n",
       "      <td>10.0</td>\n",
       "    </tr>\n",
       "    <tr>\n",
       "      <th>1</th>\n",
       "      <td>madang</td>\n",
       "      <td>madang</td>\n",
       "      <td>Papua New Guinea</td>\n",
       "      <td>pg</td>\n",
       "      <td>mag</td>\n",
       "      <td>6.0960</td>\n",
       "      <td>-5.207080</td>\n",
       "      <td>145.789002</td>\n",
       "      <td>Madang</td>\n",
       "      <td>28.0</td>\n",
       "      <td>10.0</td>\n",
       "      <td>80.0</td>\n",
       "      <td>19.0</td>\n",
       "    </tr>\n",
       "    <tr>\n",
       "      <th>2</th>\n",
       "      <td>mounthagenkagamuga</td>\n",
       "      <td>mounthagen</td>\n",
       "      <td>Papua New Guinea</td>\n",
       "      <td>pg</td>\n",
       "      <td>hgu</td>\n",
       "      <td>1642.2624</td>\n",
       "      <td>-5.826790</td>\n",
       "      <td>144.296005</td>\n",
       "      <td>Mount Hagen</td>\n",
       "      <td>21.0</td>\n",
       "      <td>16.0</td>\n",
       "      <td>84.0</td>\n",
       "      <td>10.0</td>\n",
       "    </tr>\n",
       "    <tr>\n",
       "      <th>3</th>\n",
       "      <td>nadzab</td>\n",
       "      <td>nadzab</td>\n",
       "      <td>Papua New Guinea</td>\n",
       "      <td>pg</td>\n",
       "      <td>lae</td>\n",
       "      <td>72.8472</td>\n",
       "      <td>-6.569803</td>\n",
       "      <td>146.725977</td>\n",
       "      <td>Nadzab</td>\n",
       "      <td>28.0</td>\n",
       "      <td>6.0</td>\n",
       "      <td>83.0</td>\n",
       "      <td>12.0</td>\n",
       "    </tr>\n",
       "    <tr>\n",
       "      <th>4</th>\n",
       "      <td>portmoresbyjacksons</td>\n",
       "      <td>portmoresby</td>\n",
       "      <td>Papua New Guinea</td>\n",
       "      <td>pg</td>\n",
       "      <td>pom</td>\n",
       "      <td>44.5008</td>\n",
       "      <td>-9.443380</td>\n",
       "      <td>147.220001</td>\n",
       "      <td>Port Moresby</td>\n",
       "      <td>27.0</td>\n",
       "      <td>9.0</td>\n",
       "      <td>76.0</td>\n",
       "      <td>23.0</td>\n",
       "    </tr>\n",
       "    <tr>\n",
       "      <th>...</th>\n",
       "      <td>...</td>\n",
       "      <td>...</td>\n",
       "      <td>...</td>\n",
       "      <td>...</td>\n",
       "      <td>...</td>\n",
       "      <td>...</td>\n",
       "      <td>...</td>\n",
       "      <td>...</td>\n",
       "      <td>...</td>\n",
       "      <td>...</td>\n",
       "      <td>...</td>\n",
       "      <td>...</td>\n",
       "      <td>...</td>\n",
       "    </tr>\n",
       "    <tr>\n",
       "      <th>7693</th>\n",
       "      <td>rogachyovoairbase</td>\n",
       "      <td>belaya</td>\n",
       "      <td>Russia</td>\n",
       "      <td>ru</td>\n",
       "      <td>\\n</td>\n",
       "      <td>82.9056</td>\n",
       "      <td>71.616699</td>\n",
       "      <td>52.478298</td>\n",
       "      <td>Belaya</td>\n",
       "      <td>-3</td>\n",
       "      <td>14.0</td>\n",
       "      <td>78.0</td>\n",
       "      <td>11.0</td>\n",
       "    </tr>\n",
       "    <tr>\n",
       "      <th>7694</th>\n",
       "      <td>ulan-udeeast</td>\n",
       "      <td>ulanude</td>\n",
       "      <td>Russia</td>\n",
       "      <td>ru</td>\n",
       "      <td>\\n</td>\n",
       "      <td>509.0160</td>\n",
       "      <td>51.849998</td>\n",
       "      <td>107.737999</td>\n",
       "      <td>Ulan Ude</td>\n",
       "      <td>-1</td>\n",
       "      <td>6.0</td>\n",
       "      <td>61.0</td>\n",
       "      <td>10.0</td>\n",
       "    </tr>\n",
       "    <tr>\n",
       "      <th>7695</th>\n",
       "      <td>krechevitsyairbase</td>\n",
       "      <td>novgorod</td>\n",
       "      <td>Russia</td>\n",
       "      <td>ru</td>\n",
       "      <td>\\n</td>\n",
       "      <td>25.9080</td>\n",
       "      <td>58.625000</td>\n",
       "      <td>31.385000</td>\n",
       "      <td>Novgorod</td>\n",
       "      <td>6</td>\n",
       "      <td>7.0</td>\n",
       "      <td>80.0</td>\n",
       "      <td>14.0</td>\n",
       "    </tr>\n",
       "    <tr>\n",
       "      <th>7696</th>\n",
       "      <td>desiertodeatacama</td>\n",
       "      <td>copiapo</td>\n",
       "      <td>Chile</td>\n",
       "      <td>cl</td>\n",
       "      <td>cpo</td>\n",
       "      <td>204.2160</td>\n",
       "      <td>-27.261200</td>\n",
       "      <td>-70.779198</td>\n",
       "      <td>Copiapo</td>\n",
       "      <td>20</td>\n",
       "      <td>10.0</td>\n",
       "      <td>70.0</td>\n",
       "      <td>25.0</td>\n",
       "    </tr>\n",
       "    <tr>\n",
       "      <th>7697</th>\n",
       "      <td>melitopolairbase</td>\n",
       "      <td>melitopol</td>\n",
       "      <td>Ukraine</td>\n",
       "      <td>ua</td>\n",
       "      <td>\\n</td>\n",
       "      <td>0.0000</td>\n",
       "      <td>46.880001</td>\n",
       "      <td>35.305000</td>\n",
       "      <td>Melitopol</td>\n",
       "      <td>11</td>\n",
       "      <td>7.0</td>\n",
       "      <td>72.0</td>\n",
       "      <td>22.0</td>\n",
       "    </tr>\n",
       "  </tbody>\n",
       "</table>\n",
       "<p>7698 rows × 13 columns</p>\n",
       "</div>"
      ],
      "text/plain": [
       "             airport_name         city           country iso_country iata  \\\n",
       "0                  goroka       goroka  Papua New Guinea          pg  gka   \n",
       "1                  madang       madang  Papua New Guinea          pg  mag   \n",
       "2      mounthagenkagamuga   mounthagen  Papua New Guinea          pg  hgu   \n",
       "3                  nadzab       nadzab  Papua New Guinea          pg  lae   \n",
       "4     portmoresbyjacksons  portmoresby  Papua New Guinea          pg  pom   \n",
       "...                   ...          ...               ...         ...  ...   \n",
       "7693    rogachyovoairbase       belaya            Russia          ru   \\n   \n",
       "7694         ulan-udeeast      ulanude            Russia          ru   \\n   \n",
       "7695   krechevitsyairbase     novgorod            Russia          ru   \\n   \n",
       "7696    desiertodeatacama      copiapo             Chile          cl  cpo   \n",
       "7697     melitopolairbase    melitopol           Ukraine          ua   \\n   \n",
       "\n",
       "       altitude   latitude   longitude original_city avg_temperature  \\\n",
       "0     1609.9536  -6.081690  145.391998        Goroka            20.0   \n",
       "1        6.0960  -5.207080  145.789002        Madang            28.0   \n",
       "2     1642.2624  -5.826790  144.296005   Mount Hagen            21.0   \n",
       "3       72.8472  -6.569803  146.725977        Nadzab            28.0   \n",
       "4       44.5008  -9.443380  147.220001  Port Moresby            27.0   \n",
       "...         ...        ...         ...           ...             ...   \n",
       "7693    82.9056  71.616699   52.478298        Belaya              -3   \n",
       "7694   509.0160  51.849998  107.737999      Ulan Ude              -1   \n",
       "7695    25.9080  58.625000   31.385000      Novgorod               6   \n",
       "7696   204.2160 -27.261200  -70.779198       Copiapo              20   \n",
       "7697     0.0000  46.880001   35.305000     Melitopol              11   \n",
       "\n",
       "      avg_wind_speed  avg_humidity  avg_visibility  \n",
       "0                5.0          80.0            10.0  \n",
       "1               10.0          80.0            19.0  \n",
       "2               16.0          84.0            10.0  \n",
       "3                6.0          83.0            12.0  \n",
       "4                9.0          76.0            23.0  \n",
       "...              ...           ...             ...  \n",
       "7693            14.0          78.0            11.0  \n",
       "7694             6.0          61.0            10.0  \n",
       "7695             7.0          80.0            14.0  \n",
       "7696            10.0          70.0            25.0  \n",
       "7697             7.0          72.0            22.0  \n",
       "\n",
       "[7698 rows x 13 columns]"
      ]
     },
     "execution_count": 8,
     "metadata": {},
     "output_type": "execute_result"
    }
   ],
   "source": [
    "df"
   ]
  },
  {
   "cell_type": "code",
   "execution_count": 13,
   "id": "9425b49a-1d2b-4bdc-bc67-c4859d94a105",
   "metadata": {},
   "outputs": [
    {
     "name": "stderr",
     "output_type": "stream",
     "text": [
      "C:\\Users\\yisi9\\AppData\\Local\\Temp\\ipykernel_15096\\1847546984.py:2: SettingWithCopyWarning: \n",
      "A value is trying to be set on a copy of a slice from a DataFrame.\n",
      "Try using .loc[row_indexer,col_indexer] = value instead\n",
      "\n",
      "See the caveats in the documentation: https://pandas.pydata.org/pandas-docs/stable/user_guide/indexing.html#returning-a-view-versus-a-copy\n",
      "  df[\"avg_temperature\"] = pd.to_numeric(df[\"avg_temperature\"], errors='coerce')\n",
      "C:\\Users\\yisi9\\AppData\\Local\\Temp\\ipykernel_15096\\1847546984.py:3: SettingWithCopyWarning: \n",
      "A value is trying to be set on a copy of a slice from a DataFrame.\n",
      "Try using .loc[row_indexer,col_indexer] = value instead\n",
      "\n",
      "See the caveats in the documentation: https://pandas.pydata.org/pandas-docs/stable/user_guide/indexing.html#returning-a-view-versus-a-copy\n",
      "  df[\"avg_wind_speed\"] = pd.to_numeric(df[\"avg_wind_speed\"], errors='coerce')\n",
      "C:\\Users\\yisi9\\AppData\\Local\\Temp\\ipykernel_15096\\1847546984.py:4: SettingWithCopyWarning: \n",
      "A value is trying to be set on a copy of a slice from a DataFrame.\n",
      "Try using .loc[row_indexer,col_indexer] = value instead\n",
      "\n",
      "See the caveats in the documentation: https://pandas.pydata.org/pandas-docs/stable/user_guide/indexing.html#returning-a-view-versus-a-copy\n",
      "  df[\"avg_humidity\"] = pd.to_numeric(df[\"avg_humidity\"], errors='coerce')\n",
      "C:\\Users\\yisi9\\AppData\\Local\\Temp\\ipykernel_15096\\1847546984.py:5: SettingWithCopyWarning: \n",
      "A value is trying to be set on a copy of a slice from a DataFrame.\n",
      "Try using .loc[row_indexer,col_indexer] = value instead\n",
      "\n",
      "See the caveats in the documentation: https://pandas.pydata.org/pandas-docs/stable/user_guide/indexing.html#returning-a-view-versus-a-copy\n",
      "  df[\"avg_visibility\"] = pd.to_numeric(df[\"avg_visibility\"], errors='coerce')\n"
     ]
    }
   ],
   "source": [
    "# convert empty values to numeric\n",
    "df[\"avg_temperature\"] = pd.to_numeric(df[\"avg_temperature\"], errors='coerce')\n",
    "df[\"avg_wind_speed\"] = pd.to_numeric(df[\"avg_wind_speed\"], errors='coerce')\n",
    "df[\"avg_humidity\"] = pd.to_numeric(df[\"avg_humidity\"], errors='coerce')\n",
    "df[\"avg_visibility\"] = pd.to_numeric(df[\"avg_visibility\"], errors='coerce')"
   ]
  },
  {
   "cell_type": "markdown",
   "id": "2cf83e07-625b-462d-8612-7161ee6b67f3",
   "metadata": {},
   "source": [
    "## check for max and min values of temp, wind, humidity and visibility"
   ]
  },
  {
   "cell_type": "code",
   "execution_count": 14,
   "id": "cf7933e0-2774-40ef-8cb2-1b18a00b45f7",
   "metadata": {},
   "outputs": [
    {
     "data": {
      "text/plain": [
       "36.0"
      ]
     },
     "execution_count": 14,
     "metadata": {},
     "output_type": "execute_result"
    }
   ],
   "source": [
    "df[\"avg_temperature\"].max()"
   ]
  },
  {
   "cell_type": "code",
   "execution_count": 16,
   "id": "f9666715-0d85-4195-ade8-b66b98461e36",
   "metadata": {},
   "outputs": [
    {
     "data": {
      "text/plain": [
       "-214.0"
      ]
     },
     "execution_count": 16,
     "metadata": {},
     "output_type": "execute_result"
    }
   ],
   "source": [
    "df[\"avg_temperature\"].min()\n",
    "# looks to be wrong"
   ]
  },
  {
   "cell_type": "code",
   "execution_count": 17,
   "id": "7762247c-bf17-4c03-9df8-319b2a554dba",
   "metadata": {},
   "outputs": [
    {
     "data": {
      "text/plain": [
       "30.0"
      ]
     },
     "execution_count": 17,
     "metadata": {},
     "output_type": "execute_result"
    }
   ],
   "source": [
    "df[\"avg_wind_speed\"].max()"
   ]
  },
  {
   "cell_type": "code",
   "execution_count": 18,
   "id": "d206b8a6-10ba-436c-993c-9949e4a0b4a9",
   "metadata": {},
   "outputs": [
    {
     "data": {
      "text/plain": [
       "2.0"
      ]
     },
     "execution_count": 18,
     "metadata": {},
     "output_type": "execute_result"
    }
   ],
   "source": [
    "df[\"avg_wind_speed\"].min()"
   ]
  },
  {
   "cell_type": "code",
   "execution_count": 19,
   "id": "f5a2ad64-3119-48a8-89a5-4d1ee93a661b",
   "metadata": {},
   "outputs": [
    {
     "data": {
      "text/plain": [
       "95.0"
      ]
     },
     "execution_count": 19,
     "metadata": {},
     "output_type": "execute_result"
    }
   ],
   "source": [
    "df[\"avg_humidity\"].max()"
   ]
  },
  {
   "cell_type": "code",
   "execution_count": 20,
   "id": "9447871b-14e9-4e4b-ab2f-b41f5d2f52a3",
   "metadata": {},
   "outputs": [
    {
     "data": {
      "text/plain": [
       "18.0"
      ]
     },
     "execution_count": 20,
     "metadata": {},
     "output_type": "execute_result"
    }
   ],
   "source": [
    "df[\"avg_humidity\"].min()"
   ]
  },
  {
   "cell_type": "code",
   "execution_count": 21,
   "id": "b9949c87-6a4a-45a1-8bf0-8f3a0cb4a4c5",
   "metadata": {
    "scrolled": true
   },
   "outputs": [
    {
     "data": {
      "text/plain": [
       "48.0"
      ]
     },
     "execution_count": 21,
     "metadata": {},
     "output_type": "execute_result"
    }
   ],
   "source": [
    "df[\"avg_visibility\"].max()"
   ]
  },
  {
   "cell_type": "code",
   "execution_count": 22,
   "id": "03819658-01cd-4995-8a9c-a5f89c637431",
   "metadata": {},
   "outputs": [
    {
     "data": {
      "text/plain": [
       "1.7"
      ]
     },
     "execution_count": 22,
     "metadata": {},
     "output_type": "execute_result"
    }
   ],
   "source": [
    "df[\"avg_visibility\"].min()"
   ]
  },
  {
   "cell_type": "code",
   "execution_count": 39,
   "id": "1c82e10f-686a-4d4e-92de-8a777acdd760",
   "metadata": {},
   "outputs": [
    {
     "data": {
      "image/png": "[encoded data removed]",
      "text/plain": [
       "<Figure size 640x480 with 1 Axes>"
      ]
     },
     "metadata": {},
     "output_type": "display_data"
    }
   ],
   "source": [
    "density_plot(\"avg_temperature\")"
   ]
  },
  {
   "cell_type": "code",
   "execution_count": 41,
   "id": "b3d564e3-d362-4f46-8005-e357e02b104a",
   "metadata": {},
   "outputs": [
    {
     "data": {
      "image/png": "[encoded data removed]",
      "text/plain": [
       "<Figure size 640x480 with 1 Axes>"
      ]
     },
     "metadata": {},
     "output_type": "display_data"
    }
   ],
   "source": [
    "density_plot(\"avg_wind_speed\")"
   ]
  },
  {
   "cell_type": "code",
   "execution_count": 42,
   "id": "4ac3d767-3c49-454c-b598-0e69fddd5217",
   "metadata": {},
   "outputs": [
    {
     "data": {
      "image/png": "[encoded data removed]",
      "text/plain": [
       "<Figure size 640x480 with 1 Axes>"
      ]
     },
     "metadata": {},
     "output_type": "display_data"
    }
   ],
   "source": [
    "density_plot(\"avg_humidity\")"
   ]
  },
  {
   "cell_type": "markdown",
   "id": "4ed7acc9-0cd9-4355-910f-ed970967f5a1",
   "metadata": {},
   "source": [
    "# anamaly analysis"
   ]
  },
  {
   "cell_type": "markdown",
   "id": "1f60bacb-b707-4a28-8075-b65e6d400764",
   "metadata": {},
   "source": [
    "### temperature"
   ]
  },
  {
   "cell_type": "code",
   "execution_count": 50,
   "id": "72337717-23c4-43f4-ac16-e87c4fac58a8",
   "metadata": {},
   "outputs": [],
   "source": [
    "Q1 = df['avg_temperature'].quantile(0.25)\n",
    "Q3 = df['avg_temperature'].quantile(0.75)\n",
    "IQR = Q3 - Q1\n",
    "\n",
    "# Define outliers\n",
    "outliers = df[(df['avg_temperature'] < (Q1 - 1.5 * IQR)) | (df['avg_temperature'] > (Q3 + 1.5 * IQR))]\n"
   ]
  },
  {
   "cell_type": "code",
   "execution_count": 51,
   "id": "d4866a57-3ea2-4c0b-acfb-2ff8adc20356",
   "metadata": {},
   "outputs": [
    {
     "data": {
      "text/html": [
       "<div>\n",
       "<style scoped>\n",
       "    .dataframe tbody tr th:only-of-type {\n",
       "        vertical-align: middle;\n",
       "    }\n",
       "\n",
       "    .dataframe tbody tr th {\n",
       "        vertical-align: top;\n",
       "    }\n",
       "\n",
       "    .dataframe thead th {\n",
       "        text-align: right;\n",
       "    }\n",
       "</style>\n",
       "<table border=\"1\" class=\"dataframe\">\n",
       "  <thead>\n",
       "    <tr style=\"text-align: right;\">\n",
       "      <th></th>\n",
       "      <th>airport_name</th>\n",
       "      <th>city</th>\n",
       "      <th>country</th>\n",
       "      <th>iso_country</th>\n",
       "      <th>iata</th>\n",
       "      <th>altitude</th>\n",
       "      <th>latitude</th>\n",
       "      <th>longitude</th>\n",
       "      <th>original_city</th>\n",
       "      <th>avg_temperature</th>\n",
       "      <th>avg_wind_speed</th>\n",
       "      <th>avg_humidity</th>\n",
       "      <th>avg_visibility</th>\n",
       "      <th>z_score</th>\n",
       "    </tr>\n",
       "  </thead>\n",
       "  <tbody>\n",
       "    <tr>\n",
       "      <th>9</th>\n",
       "      <td>thuleairbase</td>\n",
       "      <td>thule</td>\n",
       "      <td>Greenland</td>\n",
       "      <td>gl</td>\n",
       "      <td>thu</td>\n",
       "      <td>76.5048</td>\n",
       "      <td>76.531197</td>\n",
       "      <td>-68.703201</td>\n",
       "      <td>Thule</td>\n",
       "      <td>-16.0</td>\n",
       "      <td>16.0</td>\n",
       "      <td>72.0</td>\n",
       "      <td>12.0</td>\n",
       "      <td>-3.232555</td>\n",
       "    </tr>\n",
       "    <tr>\n",
       "      <th>25</th>\n",
       "      <td>kugaaruk</td>\n",
       "      <td>pellybay</td>\n",
       "      <td>Canada</td>\n",
       "      <td>ca</td>\n",
       "      <td>ybb</td>\n",
       "      <td>17.0688</td>\n",
       "      <td>68.534401</td>\n",
       "      <td>-89.808098</td>\n",
       "      <td>Pelly Bay</td>\n",
       "      <td>-15.0</td>\n",
       "      <td>9.0</td>\n",
       "      <td>78.0</td>\n",
       "      <td>20.0</td>\n",
       "      <td>-3.132696</td>\n",
       "    </tr>\n",
       "    <tr>\n",
       "      <th>31</th>\n",
       "      <td>cambridgebay</td>\n",
       "      <td>cambridgebay</td>\n",
       "      <td>Canada</td>\n",
       "      <td>ca</td>\n",
       "      <td>ycb</td>\n",
       "      <td>27.4320</td>\n",
       "      <td>69.108101</td>\n",
       "      <td>-105.138001</td>\n",
       "      <td>Cambridge Bay</td>\n",
       "      <td>-15.0</td>\n",
       "      <td>11.0</td>\n",
       "      <td>77.0</td>\n",
       "      <td>16.0</td>\n",
       "      <td>-3.132696</td>\n",
       "    </tr>\n",
       "    <tr>\n",
       "      <th>39</th>\n",
       "      <td>clyderiver</td>\n",
       "      <td>clyderiver</td>\n",
       "      <td>Canada</td>\n",
       "      <td>ca</td>\n",
       "      <td>ycy</td>\n",
       "      <td>26.5176</td>\n",
       "      <td>70.486099</td>\n",
       "      <td>-68.516701</td>\n",
       "      <td>Clyde River</td>\n",
       "      <td>-14.0</td>\n",
       "      <td>14.0</td>\n",
       "      <td>78.0</td>\n",
       "      <td>16.0</td>\n",
       "      <td>-3.032837</td>\n",
       "    </tr>\n",
       "    <tr>\n",
       "      <th>40</th>\n",
       "      <td>coralharbour</td>\n",
       "      <td>coralharbour</td>\n",
       "      <td>Canada</td>\n",
       "      <td>ca</td>\n",
       "      <td>yzs</td>\n",
       "      <td>64.0080</td>\n",
       "      <td>64.193298</td>\n",
       "      <td>-83.359398</td>\n",
       "      <td>Coral Harbour</td>\n",
       "      <td>-14.0</td>\n",
       "      <td>10.0</td>\n",
       "      <td>74.0</td>\n",
       "      <td>19.0</td>\n",
       "      <td>-3.032837</td>\n",
       "    </tr>\n",
       "    <tr>\n",
       "      <th>...</th>\n",
       "      <td>...</td>\n",
       "      <td>...</td>\n",
       "      <td>...</td>\n",
       "      <td>...</td>\n",
       "      <td>...</td>\n",
       "      <td>...</td>\n",
       "      <td>...</td>\n",
       "      <td>...</td>\n",
       "      <td>...</td>\n",
       "      <td>...</td>\n",
       "      <td>...</td>\n",
       "      <td>...</td>\n",
       "      <td>...</td>\n",
       "      <td>...</td>\n",
       "    </tr>\n",
       "    <tr>\n",
       "      <th>7495</th>\n",
       "      <td>nyurba</td>\n",
       "      <td>nyurba</td>\n",
       "      <td>Russia</td>\n",
       "      <td>ru</td>\n",
       "      <td>nyr</td>\n",
       "      <td>120.0912</td>\n",
       "      <td>63.294998</td>\n",
       "      <td>118.336998</td>\n",
       "      <td>Nyurba</td>\n",
       "      <td>-14.0</td>\n",
       "      <td>9.0</td>\n",
       "      <td>78.0</td>\n",
       "      <td>10.0</td>\n",
       "      <td>-3.032837</td>\n",
       "    </tr>\n",
       "    <tr>\n",
       "      <th>7496</th>\n",
       "      <td>sakkyryr</td>\n",
       "      <td>batagay-alyta</td>\n",
       "      <td>Russia</td>\n",
       "      <td>ru</td>\n",
       "      <td>suk</td>\n",
       "      <td>513.8928</td>\n",
       "      <td>67.792000</td>\n",
       "      <td>130.394000</td>\n",
       "      <td>Batagay-Alyta</td>\n",
       "      <td>-14.0</td>\n",
       "      <td>3.0</td>\n",
       "      <td>78.0</td>\n",
       "      <td>20.0</td>\n",
       "      <td>-3.032837</td>\n",
       "    </tr>\n",
       "    <tr>\n",
       "      <th>7497</th>\n",
       "      <td>ust-kuyga</td>\n",
       "      <td>ust-kuyga</td>\n",
       "      <td>Russia</td>\n",
       "      <td>ru</td>\n",
       "      <td>ukg</td>\n",
       "      <td>96.0120</td>\n",
       "      <td>70.011002</td>\n",
       "      <td>135.645004</td>\n",
       "      <td>Ust-Kuyga</td>\n",
       "      <td>-15.0</td>\n",
       "      <td>4.0</td>\n",
       "      <td>80.0</td>\n",
       "      <td>20.0</td>\n",
       "      <td>-3.132696</td>\n",
       "    </tr>\n",
       "    <tr>\n",
       "      <th>7498</th>\n",
       "      <td>verkhnevilyuisk</td>\n",
       "      <td>verkhnevilyuysk</td>\n",
       "      <td>Russia</td>\n",
       "      <td>ru</td>\n",
       "      <td>vhv</td>\n",
       "      <td>125.2728</td>\n",
       "      <td>63.458057</td>\n",
       "      <td>120.269165</td>\n",
       "      <td>Verkhnevilyuysk</td>\n",
       "      <td>-18.0</td>\n",
       "      <td>9.0</td>\n",
       "      <td>70.0</td>\n",
       "      <td>19.0</td>\n",
       "      <td>-3.432272</td>\n",
       "    </tr>\n",
       "    <tr>\n",
       "      <th>7502</th>\n",
       "      <td>talakan</td>\n",
       "      <td>talakan</td>\n",
       "      <td>Russia</td>\n",
       "      <td>ru</td>\n",
       "      <td>tlk</td>\n",
       "      <td>405.0792</td>\n",
       "      <td>59.876389</td>\n",
       "      <td>111.044444</td>\n",
       "      <td>Talakan</td>\n",
       "      <td>-18.0</td>\n",
       "      <td>3.0</td>\n",
       "      <td>79.0</td>\n",
       "      <td>23.0</td>\n",
       "      <td>-3.432272</td>\n",
       "    </tr>\n",
       "  </tbody>\n",
       "</table>\n",
       "<p>62 rows × 14 columns</p>\n",
       "</div>"
      ],
      "text/plain": [
       "         airport_name             city    country iso_country iata  altitude  \\\n",
       "9        thuleairbase            thule  Greenland          gl  thu   76.5048   \n",
       "25           kugaaruk         pellybay     Canada          ca  ybb   17.0688   \n",
       "31       cambridgebay     cambridgebay     Canada          ca  ycb   27.4320   \n",
       "39         clyderiver       clyderiver     Canada          ca  ycy   26.5176   \n",
       "40       coralharbour     coralharbour     Canada          ca  yzs   64.0080   \n",
       "...               ...              ...        ...         ...  ...       ...   \n",
       "7495           nyurba           nyurba     Russia          ru  nyr  120.0912   \n",
       "7496         sakkyryr    batagay-alyta     Russia          ru  suk  513.8928   \n",
       "7497        ust-kuyga        ust-kuyga     Russia          ru  ukg   96.0120   \n",
       "7498  verkhnevilyuisk  verkhnevilyuysk     Russia          ru  vhv  125.2728   \n",
       "7502          talakan          talakan     Russia          ru  tlk  405.0792   \n",
       "\n",
       "       latitude   longitude    original_city  avg_temperature  avg_wind_speed  \\\n",
       "9     76.531197  -68.703201            Thule            -16.0            16.0   \n",
       "25    68.534401  -89.808098        Pelly Bay            -15.0             9.0   \n",
       "31    69.108101 -105.138001    Cambridge Bay            -15.0            11.0   \n",
       "39    70.486099  -68.516701      Clyde River            -14.0            14.0   \n",
       "40    64.193298  -83.359398    Coral Harbour            -14.0            10.0   \n",
       "...         ...         ...              ...              ...             ...   \n",
       "7495  63.294998  118.336998           Nyurba            -14.0             9.0   \n",
       "7496  67.792000  130.394000    Batagay-Alyta            -14.0             3.0   \n",
       "7497  70.011002  135.645004        Ust-Kuyga            -15.0             4.0   \n",
       "7498  63.458057  120.269165  Verkhnevilyuysk            -18.0             9.0   \n",
       "7502  59.876389  111.044444          Talakan            -18.0             3.0   \n",
       "\n",
       "      avg_humidity  avg_visibility   z_score  \n",
       "9             72.0            12.0 -3.232555  \n",
       "25            78.0            20.0 -3.132696  \n",
       "31            77.0            16.0 -3.132696  \n",
       "39            78.0            16.0 -3.032837  \n",
       "40            74.0            19.0 -3.032837  \n",
       "...            ...             ...       ...  \n",
       "7495          78.0            10.0 -3.032837  \n",
       "7496          78.0            20.0 -3.032837  \n",
       "7497          80.0            20.0 -3.132696  \n",
       "7498          70.0            19.0 -3.432272  \n",
       "7502          79.0            23.0 -3.432272  \n",
       "\n",
       "[62 rows x 14 columns]"
      ]
     },
     "execution_count": 51,
     "metadata": {},
     "output_type": "execute_result"
    }
   ],
   "source": [
    "outliers"
   ]
  },
  {
   "cell_type": "code",
   "execution_count": 52,
   "id": "6d60c390-8fff-47c7-b20a-4e51f50c3391",
   "metadata": {},
   "outputs": [],
   "source": [
    "extreme_outliers = df[(df['avg_temperature'] < (Q1 - 3 * IQR)) | (df['avg_temperature'] > (Q3 + 3 * IQR))]\n"
   ]
  },
  {
   "cell_type": "code",
   "execution_count": 58,
   "id": "0ae86a47-90a0-4adc-9f08-5e72a0e72338",
   "metadata": {},
   "outputs": [
    {
     "data": {
      "text/html": [
       "<div>\n",
       "<style scoped>\n",
       "    .dataframe tbody tr th:only-of-type {\n",
       "        vertical-align: middle;\n",
       "    }\n",
       "\n",
       "    .dataframe tbody tr th {\n",
       "        vertical-align: top;\n",
       "    }\n",
       "\n",
       "    .dataframe thead th {\n",
       "        text-align: right;\n",
       "    }\n",
       "</style>\n",
       "<table border=\"1\" class=\"dataframe\">\n",
       "  <thead>\n",
       "    <tr style=\"text-align: right;\">\n",
       "      <th></th>\n",
       "      <th>airport_name</th>\n",
       "      <th>city</th>\n",
       "      <th>country</th>\n",
       "      <th>iso_country</th>\n",
       "      <th>iata</th>\n",
       "      <th>altitude</th>\n",
       "      <th>latitude</th>\n",
       "      <th>longitude</th>\n",
       "      <th>original_city</th>\n",
       "      <th>avg_temperature</th>\n",
       "      <th>avg_wind_speed</th>\n",
       "      <th>avg_humidity</th>\n",
       "      <th>avg_visibility</th>\n",
       "      <th>z_score</th>\n",
       "    </tr>\n",
       "  </thead>\n",
       "  <tbody>\n",
       "    <tr>\n",
       "      <th>4447</th>\n",
       "      <td>frankwileyfield</td>\n",
       "      <td>milescity</td>\n",
       "      <td>United States</td>\n",
       "      <td>us</td>\n",
       "      <td>mls</td>\n",
       "      <td>801.624</td>\n",
       "      <td>46.428001</td>\n",
       "      <td>-105.886002</td>\n",
       "      <td>Miles City</td>\n",
       "      <td>-214.0</td>\n",
       "      <td>12.0</td>\n",
       "      <td>69.0</td>\n",
       "      <td>16.0</td>\n",
       "      <td>-23.004577</td>\n",
       "    </tr>\n",
       "  </tbody>\n",
       "</table>\n",
       "</div>"
      ],
      "text/plain": [
       "         airport_name       city        country iso_country iata  altitude  \\\n",
       "4447  frankwileyfield  milescity  United States          us  mls   801.624   \n",
       "\n",
       "       latitude   longitude original_city  avg_temperature  avg_wind_speed  \\\n",
       "4447  46.428001 -105.886002    Miles City           -214.0            12.0   \n",
       "\n",
       "      avg_humidity  avg_visibility    z_score  \n",
       "4447          69.0            16.0 -23.004577  "
      ]
     },
     "execution_count": 58,
     "metadata": {},
     "output_type": "execute_result"
    }
   ],
   "source": [
    "extreme_outliers\n",
    "# must be a mistake "
   ]
  },
  {
   "cell_type": "code",
   "execution_count": 65,
   "id": "1e3c9af6-a6e9-477c-ba26-c2a33e83d9d3",
   "metadata": {},
   "outputs": [],
   "source": [
    "# so I am going to manually google and replace this value\n",
    "# according to Google it has a temperature of 46 F which is 7.77778 C\n",
    "df.iloc[4447, 9] = 7.78"
   ]
  },
  {
   "cell_type": "code",
   "execution_count": 66,
   "id": "5bdf4a5a-b039-47e6-8723-2e74316d8df7",
   "metadata": {},
   "outputs": [
    {
     "data": {
      "text/html": [
       "<div>\n",
       "<style scoped>\n",
       "    .dataframe tbody tr th:only-of-type {\n",
       "        vertical-align: middle;\n",
       "    }\n",
       "\n",
       "    .dataframe tbody tr th {\n",
       "        vertical-align: top;\n",
       "    }\n",
       "\n",
       "    .dataframe thead th {\n",
       "        text-align: right;\n",
       "    }\n",
       "</style>\n",
       "<table border=\"1\" class=\"dataframe\">\n",
       "  <thead>\n",
       "    <tr style=\"text-align: right;\">\n",
       "      <th></th>\n",
       "      <th>airport_name</th>\n",
       "      <th>city</th>\n",
       "      <th>country</th>\n",
       "      <th>iso_country</th>\n",
       "      <th>iata</th>\n",
       "      <th>altitude</th>\n",
       "      <th>latitude</th>\n",
       "      <th>longitude</th>\n",
       "      <th>original_city</th>\n",
       "      <th>avg_temperature</th>\n",
       "      <th>avg_wind_speed</th>\n",
       "      <th>avg_humidity</th>\n",
       "      <th>avg_visibility</th>\n",
       "      <th>z_score</th>\n",
       "    </tr>\n",
       "  </thead>\n",
       "  <tbody>\n",
       "    <tr>\n",
       "      <th>4447</th>\n",
       "      <td>frankwileyfield</td>\n",
       "      <td>milescity</td>\n",
       "      <td>United States</td>\n",
       "      <td>us</td>\n",
       "      <td>mls</td>\n",
       "      <td>801.624</td>\n",
       "      <td>46.428001</td>\n",
       "      <td>-105.886002</td>\n",
       "      <td>Miles City</td>\n",
       "      <td>7.78</td>\n",
       "      <td>12.0</td>\n",
       "      <td>69.0</td>\n",
       "      <td>16.0</td>\n",
       "      <td>-23.004577</td>\n",
       "    </tr>\n",
       "  </tbody>\n",
       "</table>\n",
       "</div>"
      ],
      "text/plain": [
       "         airport_name       city        country iso_country iata  altitude  \\\n",
       "4447  frankwileyfield  milescity  United States          us  mls   801.624   \n",
       "\n",
       "       latitude   longitude original_city avg_temperature  avg_wind_speed  \\\n",
       "4447  46.428001 -105.886002    Miles City            7.78            12.0   \n",
       "\n",
       "      avg_humidity  avg_visibility    z_score  \n",
       "4447          69.0            16.0 -23.004577  "
      ]
     },
     "execution_count": 66,
     "metadata": {},
     "output_type": "execute_result"
    }
   ],
   "source": [
    "df[df[\"airport_name\"] == \"frankwileyfield\"]"
   ]
  },
  {
   "cell_type": "markdown",
   "id": "774d278d-ed2e-4735-bb4a-64472b97cbc7",
   "metadata": {},
   "source": [
    "### wind"
   ]
  },
  {
   "cell_type": "code",
   "execution_count": 67,
   "id": "2225303f-868f-4fd4-a8ec-a872399ffc45",
   "metadata": {},
   "outputs": [
    {
     "data": {
      "text/plain": [
       "30.0"
      ]
     },
     "execution_count": 67,
     "metadata": {},
     "output_type": "execute_result"
    }
   ],
   "source": [
    "df[\"avg_wind_speed\"].max()"
   ]
  },
  {
   "cell_type": "code",
   "execution_count": 69,
   "id": "69cb7ded-4b23-4f30-bba1-1ca8de89006d",
   "metadata": {},
   "outputs": [
    {
     "data": {
      "text/html": [
       "<div>\n",
       "<style scoped>\n",
       "    .dataframe tbody tr th:only-of-type {\n",
       "        vertical-align: middle;\n",
       "    }\n",
       "\n",
       "    .dataframe tbody tr th {\n",
       "        vertical-align: top;\n",
       "    }\n",
       "\n",
       "    .dataframe thead th {\n",
       "        text-align: right;\n",
       "    }\n",
       "</style>\n",
       "<table border=\"1\" class=\"dataframe\">\n",
       "  <thead>\n",
       "    <tr style=\"text-align: right;\">\n",
       "      <th></th>\n",
       "      <th>airport_name</th>\n",
       "      <th>city</th>\n",
       "      <th>country</th>\n",
       "      <th>iso_country</th>\n",
       "      <th>iata</th>\n",
       "      <th>altitude</th>\n",
       "      <th>latitude</th>\n",
       "      <th>longitude</th>\n",
       "      <th>original_city</th>\n",
       "      <th>avg_temperature</th>\n",
       "      <th>avg_wind_speed</th>\n",
       "      <th>avg_humidity</th>\n",
       "      <th>avg_visibility</th>\n",
       "      <th>z_score</th>\n",
       "    </tr>\n",
       "  </thead>\n",
       "  <tbody>\n",
       "    <tr>\n",
       "      <th>4906</th>\n",
       "      <td>mounthotham</td>\n",
       "      <td>mounthotham</td>\n",
       "      <td>Australia</td>\n",
       "      <td>au</td>\n",
       "      <td>mhu</td>\n",
       "      <td>1298.448</td>\n",
       "      <td>-37.047501</td>\n",
       "      <td>147.334</td>\n",
       "      <td>Mount Hotham</td>\n",
       "      <td>8.0</td>\n",
       "      <td>30.0</td>\n",
       "      <td>74.0</td>\n",
       "      <td>20.0</td>\n",
       "      <td>-0.835946</td>\n",
       "    </tr>\n",
       "  </tbody>\n",
       "</table>\n",
       "</div>"
      ],
      "text/plain": [
       "     airport_name         city    country iso_country iata  altitude  \\\n",
       "4906  mounthotham  mounthotham  Australia          au  mhu  1298.448   \n",
       "\n",
       "       latitude  longitude original_city avg_temperature  avg_wind_speed  \\\n",
       "4906 -37.047501    147.334  Mount Hotham             8.0            30.0   \n",
       "\n",
       "      avg_humidity  avg_visibility   z_score  \n",
       "4906          74.0            20.0 -0.835946  "
      ]
     },
     "execution_count": 69,
     "metadata": {},
     "output_type": "execute_result"
    }
   ],
   "source": [
    "df[df[\"avg_wind_speed\"]== 30.0]\n",
    "# this is sensible as it is a skiing resort in the mountains"
   ]
  },
  {
   "cell_type": "code",
   "execution_count": 73,
   "id": "9e533a26-188f-4e0e-b9af-e3368fa67083",
   "metadata": {},
   "outputs": [
    {
     "data": {
      "image/png": "[encoded data removed]",
      "text/plain": [
       "<Figure size 800x600 with 1 Axes>"
      ]
     },
     "metadata": {},
     "output_type": "display_data"
    }
   ],
   "source": [
    "box_plot(df, \"avg_wind_speed\")"
   ]
  },
  {
   "cell_type": "markdown",
   "id": "61539546-4c4a-46df-9807-04351a078f5e",
   "metadata": {},
   "source": [
    "### humidity"
   ]
  },
  {
   "cell_type": "code",
   "execution_count": 77,
   "id": "4eb2b209-4454-479e-82f1-69829c7f07bb",
   "metadata": {},
   "outputs": [
    {
     "data": {
      "image/png": "[encoded data removed]",
      "text/plain": [
       "<Figure size 800x600 with 1 Axes>"
      ]
     },
     "metadata": {},
     "output_type": "display_data"
    }
   ],
   "source": [
    "box_plot(df, \"avg_humidity\")"
   ]
  },
  {
   "cell_type": "code",
   "execution_count": 78,
   "id": "bfe9bbdf-e453-487a-8d01-a9e1a762ca4b",
   "metadata": {},
   "outputs": [],
   "source": [
    "# looks fine for humidity"
   ]
  },
  {
   "cell_type": "markdown",
   "id": "a65f2402-a18c-42eb-a415-cdab16f159a0",
   "metadata": {},
   "source": [
    "### visibility"
   ]
  },
  {
   "cell_type": "code",
   "execution_count": 80,
   "id": "b5d49090-d387-465a-acd8-7568715ebf23",
   "metadata": {},
   "outputs": [
    {
     "data": {
      "image/png": "[encoded data removed]",
      "text/plain": [
       "<Figure size 800x600 with 1 Axes>"
      ]
     },
     "metadata": {},
     "output_type": "display_data"
    }
   ],
   "source": [
    "box_plot(df, \"avg_visibility\")"
   ]
  },
  {
   "cell_type": "code",
   "execution_count": 81,
   "id": "ea597bed-9e83-4688-a293-e340f6eca39d",
   "metadata": {},
   "outputs": [],
   "source": [
    "# everything looks fine here, no anomaly spotted"
   ]
  },
  {
   "cell_type": "code",
   "execution_count": 82,
   "id": "2b711705-42aa-4f71-96bd-81e2484f0b39",
   "metadata": {},
   "outputs": [],
   "source": [
    "df.to_csv(\"airport_dataset_with_llm_weather_corrected.csv\", index=False)"
   ]
  },
  {
   "cell_type": "code",
   "execution_count": null,
   "id": "a3394122-5b00-4248-975b-9b24733ac65c",
   "metadata": {},
   "outputs": [],
   "source": []
  }
 ],
 "metadata": {
  "kernelspec": {
   "display_name": "Python 3 (ipykernel)",
   "language": "python",
   "name": "python3"
  },
  "language_info": {
   "codemirror_mode": {
    "name": "ipython",
    "version": 3
   },
   "file_extension": ".py",
   "mimetype": "text/x-python",
   "name": "python",
   "nbconvert_exporter": "python",
   "pygments_lexer": "ipython3",
   "version": "3.12.2"
  }
 },
 "nbformat": 4,
 "nbformat_minor": 5
}
